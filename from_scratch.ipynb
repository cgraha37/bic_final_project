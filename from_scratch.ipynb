{
 "cells": [
  {
   "cell_type": "code",
   "execution_count": 3,
   "metadata": {
    "collapsed": false
   },
   "outputs": [
   ],
   "source": [
    "import random\n",
    "import math\n",
    "import numpy as np\n",
    "import matplotlib.pyplot as plt\n",
    "import matplotlib.animation as animation\n",
    "from IPython.display import HTML\n",
    "import multiprocessing"
   ]
  },
  {
   "cell_type": "code",
   "execution_count": 0,
   "metadata": {
    "collapsed": false
   },
   "outputs": [
   ],
   "source": [
    "class Unit:\n",
    "    def __init__(self, field,x, y, pheremone_strength, speed, power, attack_range):\n",
    "        self.x = x\n",
    "        self.y = y\n",
    "        self.field = field\n",
    "        self.health = 10\n",
    "        self.attack_range = attack_range\n",
    "        self.speed = speed\n",
    "        self.power = power\n",
    "        self.history = [(x,y)]\n",
    "        self.kill_count = 0\n",
    "        self.time_alive = 0\n",
    "        self.food_count = 0\n",
    "        self.has_food = False\n",
    "\n",
    "        self.heading = random.randint(0, 359)\n",
    "\n",
    "    def move(self):\n",
    "\n",
    "        if self.has_food:\n",
    "            self.return_to_nest()\n",
    "        else:\n",
    "            self.search_for_food()\n",
    "\n",
    "        self.heading += random.randint(-40, 40)\n",
    "        self.forward()\n",
    "\n",
    "    def forward(self):\n",
    "        self.x += math.cos(math.radians(self.heading))\n",
    "        self.y += math.sin(math.radians(self.heading))\n",
    "\n",
    "        self.history.append((self.x,self.y))\n",
    "        # define funtionality for moving by updating position and adding position tuple to history array\n",
    "        # calculate the move by using the parameters plus the \"pheremone\"\n",
    "\n",
    "    def attack(self):\n",
    "        enemies = self.world.swarms[0] if self.world.swarms[0] != self else self.world.swarms[1]\n",
    "        for enemy in enemies.units:\n",
    "            if enemy != self:\n",
    "                distance = math.sqrt((self.x - enemy.x)**2 + (self.y - enemy.y)**2)\n",
    "                if distance <= attack_range:\n",
    "                    enemy.health -= power\n",
    "        # check if any enemy units are in a certain range\n",
    "        # implement logic to choose which enemy to attack\n",
    "\n",
    "    def death(self):\n",
    "        dummy = 0\n",
    "        # implement logic upon unit death\n",
    "\n",
    "    def update_plot(self, frame):\n",
    "        # Plot current position\n",
    "        x, y = self.history[frame]\n",
    "        self.marker.set_data(x, y)\n",
    "        return (self.marker,)\n",
    "\n",
    "    def plot_position_history(self):\n",
    "        # Create figure and axis\n",
    "        fig, ax = plt.subplots()\n",
    "\n",
    "        ax.set_xlim(0, 5)\n",
    "        ax.set_ylim(0, 5)\n",
    "\n",
    "        # Plot initial position\n",
    "        x, y = self.history[0]\n",
    "        (self.marker,) = ax.plot(x, y, \"bo\", markersize=10)\n",
    "\n",
    "        # Create animation\n",
    "        ani = animation.FuncAnimation(\n",
    "            fig, self.update_plot, frames=len(self.history), interval=100, blit=True\n",
    "        )\n",
    "        display(HTML(ani.to_html5_video()))\n",
    "        # Show animation"
   ]
  },
  {
   "cell_type": "code",
   "execution_count": 0,
   "metadata": {
    "collapsed": false
   },
   "outputs": [
   ],
   "source": [
   ]
  },
  {
   "cell_type": "code",
   "execution_count": 0,
   "metadata": {
    "collapsed": false
   },
   "outputs": [
   ],
   "source": [
    "unit = Unit((3, 3), 0, 0, 0,0)\n",
    "\n",
    "# Move the unit\n",
    "for i in range(10):\n",
    "    unit.move()\n",
    "\n",
    "\n",
    "\n",
    "# Display animation\n",
    "unit.plot_position_history()\n"
   ]
  },
  {
   "cell_type": "code",
   "execution_count": 0,
   "metadata": {
    "collapsed": false
   },
   "outputs": [
   ],
   "source": [
    "class resourceNode:\n",
    "    def __init__(self, position, max_resources):\n",
    "        self.position = position\n",
    "        self.max_resources = max_resources\n",
    "        self.current_resources = max_resources\n",
    "\n",
    "    def deplete(self, amount):\n",
    "        self.current_resources -= amount\n",
    "        if self.current_resources < 0:\n",
    "            self.current_resources = 0"
   ]
  },
  {
   "cell_type": "code",
   "execution_count": 0,
   "metadata": {
    "collapsed": false
   },
   "outputs": [
   ],
   "source": [
   ]
  },
  {
   "cell_type": "code",
   "execution_count": 0,
   "metadata": {
    "collapsed": false
   },
   "outputs": [
   ],
   "source": [
    "class Swarm:\n",
    "    def __init__(\n",
    "        self,\n",
    "        field,\n",
    "        max_units,\n",
    "        start_x,\n",
    "        start_y\n",
    "    ):\n",
    "        self.max_units = max_units\n",
    "        self.field = field\n",
    "        self.active_units = []\n",
    "        self.dead_units = []\n",
    "        self.pheromone_map = (field.width, field.height)\n",
    "        self.start_x = start_x\n",
    "        self.start_y = start_y\n",
    "        self.populate_swarm()\n",
    "    def processing_move(unit):\n",
    "        unit.move()\n",
    "    def populate_swarm(self):\n",
    "        dummy = 0\n",
    "        for i in range(self.max_units):\n",
    "            speed = random.uniform(0, 1)\n",
    "            power = random.randint(1, 5)\n",
    "            attack_range = random.uniform(0.5, 3)\n",
    "            p_strength = random.randint(1, 3)\n",
    "            ant = Unit(self.field,self.start_x,self.start_y,p_strength, speed, power, attack_range)\n",
    "            self.active_units.append(ant)\n",
    "        # populate swarm and initialize random stats for each unit\n",
    "\n",
    "    def move(self):\n",
    "        # Implement movement logic for the entire swarm by working through array\n",
    "        pool = multiprocessing.Pool()\n",
    "        pool.map(processing_move,units)\n",
    "        pool.close()\n",
    "        pool.join()\n",
    "        pass\n",
    "    def check_death(self):\n",
    "        for unit in self.active_units:\n",
    "            if unit.health<= 0:\n",
    "                self.active_units.remove(unit)\n",
    "                self.dead_units.append(unit)\n",
    "                \n",
    "    def gather_resources(self, resource_nodes):\n",
    "        # Implement resource gathering logic for the entire swarm by working through array\n",
    "        pass\n",
    "\n",
    "    def update(self):\n",
    "        # Implement any other updates for the swarm i cant think of anything but here is extra stuff\n",
    "        pass"
   ]
  },
  {
   "cell_type": "code",
   "execution_count": 0,
   "metadata": {
    "collapsed": false
   },
   "outputs": [
   ],
   "source": [
    "class Battlefield:\n",
    "    def __init__(self, width, height):\n",
    "        self.width = width\n",
    "        self.height = height\n",
    "        self.resource_nodes = []\n",
    "        self.swarms = []\n",
    "        \n",
    "        self.swarms.append(Swarm(self,20,0 50))\n",
    "        self.swarms.append(Swarm(self,20,99,0))\n",
    "    def process_move(swarm):\n",
    "        swarm.move()\n",
    "    def process_attack(ant):\n",
    "        ant.attack\n",
    "    def populate_resources(self, node):\n",
    "        dummy = 0\n",
    "        # populate the resources across the search space\n",
    "\n",
    "    def create_teams(self, swarm):\n",
    "        dummy = 0\n",
    "        #create two swarm by calling swarm\n",
    "    def tick(self):\n",
    "        pool = multiprocessing.Pool()\n",
    "        pool.map(process_move, swarms)\n",
    "        pool.close()\n",
    "        pool.join()       \n",
    "        #    for ant in swarm.active_units:\n",
    "         #       ant.move()\n",
    "        pool = multiprocessing.Pool()\n",
    "        pool.map(process_attack,swarm.active_units)\n",
    "        #this may be a problem later\n",
    "        for swarm in swarms:\n",
    "            pool.map(process_attack,swarm.active_units)\n",
    "            pool.close()\n",
    "            pool.join\n",
    "          #  for ant in swarm.active_units:\n",
    "           #     ant.attack()\n",
    "        \n",
    "    def simulate(self, num_iterations):\n",
    "     \"\"\"\"   #for _ in range(num_iterations):\n",
    "            # Update each swarm\n",
    "            for swarm in self.swarms:\n",
    "                swarm.move()\n",
    "                swarm.gather_resources(self.resource_nodes)\n",
    "                swarm.update()\n",
    "            #just keep track of the position history and the history of each unit\n",
    "            # Visualization code (optional) \n",
    "            self.visualize()\"\"\"\n",
    "    \n",
    "        \n",
    "    def visualize(self):\n",
    "        # Visualization code to plot the battlefield, units, and resource nodes\n",
    "        pass"
   ]
  },
  {
   "cell_type": "code",
   "execution_count": 0,
   "metadata": {
    "collapsed": false
   },
   "outputs": [
   ],
   "source": [
    "def main():\n",
    "    bf = Battlefield(100,100)\n",
    "    \n",
    "    while 1:\n",
    "        bf.tick()"
   ]
  },
  {
   "cell_type": "code",
   "execution_count": 0,
   "metadata": {
    "collapsed": false
   },
   "outputs": [
   ],
   "source": [
    "if __name__ == \"__main__\":\n",
    "    main()"
   ]
  }
 ],
 "metadata": {
  "kernelspec": {
   "argv": [
    "/ext/colab/launch.sh",
    "{connection_file}"
   ],
   "display_name": "Python 3 (Colab)",
   "env": {
   },
   "language": "python",
   "name": "colab",
   "resource_dir": "/ext/jupyter/kernels/colab"
  },
  "language_info": {
   "codemirror_mode": {
    "name": "ipython",
    "version": 3
   },
   "file_extension": ".py",
   "mimetype": "text/x-python",
   "name": "python",
   "nbconvert_exporter": "python",
   "pygments_lexer": "ipython3",
   "version": "3.10.12"
  }
 },
 "nbformat": 4,
 "nbformat_minor": 4
}